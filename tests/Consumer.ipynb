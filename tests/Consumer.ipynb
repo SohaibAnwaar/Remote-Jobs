{
 "cells": [
  {
   "cell_type": "code",
   "execution_count": null,
   "metadata": {},
   "outputs": [
    {
     "name": "stdout",
     "output_type": "stream",
     "text": [
      "Time  1677076677.3459387\n",
      "ConsumerRecord(topic='scrapper', partition=2, offset=0, timestamp=1677076677265, timestamp_type=0, key=None, value=b'\"{\\\\\"hello\\\\\": \\\\\"hello\\\\\"}\"', headers=[], checksum=None, serialized_key_size=-1, serialized_value_size=24, serialized_header_size=-1)\n"
     ]
    }
   ],
   "source": [
    "import time\n",
    "import threading\n",
    "from kafka import KafkaConsumer, KafkaProducer\n",
    "\n",
    "\n",
    "bootstrap_servers = \"localhost:9092\"\n",
    "\n",
    "def consumer():\n",
    "    consumer = KafkaConsumer(\"scrapper\",\n",
    "            bootstrap_servers = bootstrap_servers,\n",
    "            )\n",
    "    for msg in consumer:\n",
    "        print(\"Time \", time.time())\n",
    "        print(msg)\n",
    "        \n",
    "        \n",
    "consumer()"
   ]
  },
  {
   "cell_type": "code",
   "execution_count": null,
   "metadata": {},
   "outputs": [],
   "source": []
  },
  {
   "cell_type": "code",
   "execution_count": null,
   "metadata": {},
   "outputs": [],
   "source": []
  }
 ],
 "metadata": {
  "kernelspec": {
   "display_name": "kafka_python",
   "language": "python",
   "name": "kafka_python"
  },
  "language_info": {
   "codemirror_mode": {
    "name": "ipython",
    "version": 3
   },
   "file_extension": ".py",
   "mimetype": "text/x-python",
   "name": "python",
   "nbconvert_exporter": "python",
   "pygments_lexer": "ipython3",
   "version": "3.9.16"
  }
 },
 "nbformat": 4,
 "nbformat_minor": 5
}
