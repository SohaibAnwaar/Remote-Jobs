{
 "cells": [
  {
   "cell_type": "code",
   "execution_count": 1,
   "id": "b17d89df",
   "metadata": {},
   "outputs": [],
   "source": [
    "import os, sys\n",
    "current_path = os.getcwd()\n",
    "BASE_DIR = current_path.rsplit(\"/\", 1)[0]\n",
    "sys.path.append(BASE_DIR)\n",
    "\n",
    "from shared_layer.kafka.bridge_helpers import KafkaBridge"
   ]
  },
  {
   "cell_type": "markdown",
   "id": "5fbf0ed5",
   "metadata": {},
   "source": [
    "# Creating Topic"
   ]
  },
  {
   "cell_type": "code",
   "execution_count": 2,
   "id": "4e6d1174",
   "metadata": {},
   "outputs": [
    {
     "name": "stdout",
     "output_type": "stream",
     "text": [
      "['test', '_connect-status', 's', '_connect-configs', '_connect-offsets', 'e', '_schemas']\n",
      "Topic : {topic} already exist \n",
      "Topic Exist\n"
     ]
    }
   ],
   "source": [
    "bootstrap_servers = \"localhost:9092\"\n",
    "topic_name = [\"test\"]\n",
    "\n",
    "admin = KafkaBridge(bootstrap_servers = bootstrap_servers)\n",
    "admin.create_topics(topic_name)\n"
   ]
  },
  {
   "cell_type": "markdown",
   "id": "390446be",
   "metadata": {},
   "source": [
    "# Producing Message"
   ]
  },
  {
   "cell_type": "code",
   "execution_count": 5,
   "id": "e122f68e",
   "metadata": {},
   "outputs": [
    {
     "name": "stdout",
     "output_type": "stream",
     "text": [
      "1676987639.28013\n"
     ]
    },
    {
     "data": {
      "text/plain": [
       "<kafka.producer.future.FutureRecordMetadata at 0x7ff982518760>"
      ]
     },
     "execution_count": 5,
     "metadata": {},
     "output_type": "execute_result"
    }
   ],
   "source": [
    "import json, time\n",
    "print(time.time())\n",
    "admin.producer.send(\"test\", json.dumps({\"hello\":\"hello\"}))"
   ]
  },
  {
   "cell_type": "markdown",
   "id": "14d9512c",
   "metadata": {},
   "source": [
    "# Consumer"
   ]
  },
  {
   "cell_type": "code",
   "execution_count": null,
   "id": "79960a5c",
   "metadata": {},
   "outputs": [],
   "source": []
  },
  {
   "cell_type": "code",
   "execution_count": null,
   "id": "72524006",
   "metadata": {},
   "outputs": [],
   "source": []
  }
 ],
 "metadata": {
  "kernelspec": {
   "display_name": "kafka_python",
   "language": "python",
   "name": "kafka_python"
  },
  "language_info": {
   "codemirror_mode": {
    "name": "ipython",
    "version": 3
   },
   "file_extension": ".py",
   "mimetype": "text/x-python",
   "name": "python",
   "nbconvert_exporter": "python",
   "pygments_lexer": "ipython3",
   "version": "3.9.16"
  }
 },
 "nbformat": 4,
 "nbformat_minor": 5
}
