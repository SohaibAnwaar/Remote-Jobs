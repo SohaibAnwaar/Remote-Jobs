{
 "cells": [
  {
   "cell_type": "code",
   "execution_count": 8,
   "metadata": {},
   "outputs": [],
   "source": [
    "import os, sys\n",
    "current_path = os.getcwd()\n",
    "BASE_DIR = current_path.rsplit(\"/\", 1)[0]\n",
    "sys.path.append(BASE_DIR)\n",
    "\n",
    "from shared_layer.kafka.producer import KafkaProducerBridge"
   ]
  },
  {
   "cell_type": "markdown",
   "metadata": {},
   "source": [
    "# Producing Message"
   ]
  },
  {
   "cell_type": "code",
   "execution_count": 14,
   "metadata": {},
   "outputs": [
    {
     "name": "stdout",
     "output_type": "stream",
     "text": [
      "1677162597.286253\n",
      "Topics Name:  scrapper\n",
      "Message Published Successfully\n"
     ]
    }
   ],
   "source": [
    "import json, time\n",
    "print(time.time())\n",
    "producer = KafkaProducerBridge()\n",
    "\n",
    "current_item = {\n",
    "                        \"title\": \"title\",\n",
    "                        \"city\": \"city\",\n",
    "                        \"state\": \"state\",\n",
    "                        \"country\": \"country\",\n",
    "                        \"company_url\": \"company\",\n",
    "                        \"lead_url\": \"job_uhdrl\",\n",
    "                        \"lead_date\": \"posted_date\",\n",
    "                        \"platform\": \"self.name\"\n",
    "\n",
    "                    }\n",
    "producer.publish_message(\"scrapper\",current_item)"
   ]
  },
  {
   "cell_type": "code",
   "execution_count": null,
   "metadata": {},
   "outputs": [],
   "source": []
  }
 ],
 "metadata": {
  "kernelspec": {
   "display_name": "kafka_python",
   "language": "python",
   "name": "kafka_python"
  },
  "language_info": {
   "codemirror_mode": {
    "name": "ipython",
    "version": 3
   },
   "file_extension": ".py",
   "mimetype": "text/x-python",
   "name": "python",
   "nbconvert_exporter": "python",
   "pygments_lexer": "ipython3",
   "version": "3.9.16"
  }
 },
 "nbformat": 4,
 "nbformat_minor": 5
}
