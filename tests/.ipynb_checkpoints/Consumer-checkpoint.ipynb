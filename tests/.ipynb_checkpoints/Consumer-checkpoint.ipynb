{
 "cells": [
  {
   "cell_type": "code",
   "execution_count": null,
   "metadata": {},
   "outputs": [],
   "source": [
    "import time\n",
    "import threading\n",
    "from kafka import KafkaConsumer, KafkaProducer\n",
    "\n",
    "\n",
    "bootstrap_servers = \"localhost:9092\"\n",
    "\n",
    "def consumer():\n",
    "    consumer = KafkaConsumer(\"scrapper\",\n",
    "            bootstrap_servers = bootstrap_servers,\n",
    "            )\n",
    "    for msg in consumer:\n",
    "        print(\"Time \", time.time())\n",
    "        print(msg)\n",
    "        \n",
    "        \n",
    "consumer()"
   ]
  },
  {
   "cell_type": "code",
   "execution_count": 1,
   "metadata": {},
   "outputs": [
    {
     "ename": "ModuleNotFoundError",
     "evalue": "No module named 'shared_layer'",
     "output_type": "error",
     "traceback": [
      "\u001b[0;31m---------------------------------------------------------------------------\u001b[0m",
      "\u001b[0;31mModuleNotFoundError\u001b[0m                       Traceback (most recent call last)",
      "Cell \u001b[0;32mIn[1], line 1\u001b[0m\n\u001b[0;32m----> 1\u001b[0m \u001b[38;5;28;01mfrom\u001b[39;00m \u001b[38;5;21;01mshared_layer\u001b[39;00m\u001b[38;5;21;01m.\u001b[39;00m\u001b[38;5;21;01mkafka\u001b[39;00m\u001b[38;5;21;01m.\u001b[39;00m\u001b[38;5;21;01mbridge\u001b[39;00m \u001b[38;5;28;01mimport\u001b[39;00m KafkaBridge\n\u001b[1;32m      4\u001b[0m kafka_bridge \u001b[38;5;241m=\u001b[39m KafkaBridge()\n\u001b[1;32m      5\u001b[0m \u001b[38;5;66;03m# Run the function in background\u001b[39;00m\n",
      "\u001b[0;31mModuleNotFoundError\u001b[0m: No module named 'shared_layer'"
     ]
    }
   ],
   "source": [
    "from shared_layer.kafka.bridge import KafkaBridge\n",
    "\n",
    "\n",
    "kafka_bridge = KafkaBridge()\n",
    "# Run the function in background\n",
    "kafka_bridge.Kafka_to_postgres()\n",
    "# threading.Thread(target=kafka_bridge.Kafka_to_postgres).start()"
   ]
  },
  {
   "cell_type": "code",
   "execution_count": null,
   "metadata": {},
   "outputs": [],
   "source": []
  }
 ],
 "metadata": {
  "kernelspec": {
   "display_name": "kafka_python",
   "language": "python",
   "name": "kafka_python"
  },
  "language_info": {
   "codemirror_mode": {
    "name": "ipython",
    "version": 3
   },
   "file_extension": ".py",
   "mimetype": "text/x-python",
   "name": "python",
   "nbconvert_exporter": "python",
   "pygments_lexer": "ipython3",
   "version": "3.9.16"
  }
 },
 "nbformat": 4,
 "nbformat_minor": 5
}
